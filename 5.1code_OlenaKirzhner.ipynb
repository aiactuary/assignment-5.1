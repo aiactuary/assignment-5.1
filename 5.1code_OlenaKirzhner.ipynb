{
 "cells": [
  {
   "cell_type": "markdown",
   "metadata": {
    "id": "CcUT6Fon_qRE"
   },
   "source": [
    "### Required Assignment 5.1: Will the Customer Accept the Coupon?\n",
    "\n",
    "**Context**\n",
    "\n",
    "Imagine driving through town and a coupon is delivered to your cell phone for a restaurant near where you are driving. Would you accept that coupon and take a short detour to the restaurant? Would you accept the coupon but use it on a subsequent trip? Would you ignore the coupon entirely? What if the coupon was for a bar instead of a restaurant? What about a coffee house? Would you accept a bar coupon with a minor passenger in the car? What about if it was just you and your partner in the car? Would weather impact the rate of acceptance? What about the time of day?\n",
    "\n",
    "Obviously, proximity to the business is a factor on whether the coupon is delivered to the driver or not, but what are the factors that determine whether a driver accepts the coupon once it is delivered to them? How would you determine whether a driver is likely to accept a coupon?\n",
    "\n",
    "**Overview**\n",
    "\n",
    "The goal of this project is to use what you know about visualizations and probability distributions to distinguish between customers who accepted a driving coupon versus those that did not.\n",
    "\n",
    "**Data**\n",
    "\n",
    "This data comes to us from the UCI Machine Learning repository and was collected via a survey on Amazon Mechanical Turk. The survey describes different driving scenarios including the destination, current time, weather, passenger, etc., and then ask the person whether he will accept the coupon if he is the driver. Answers that the user will drive there ‘right away’ or ‘later before the coupon expires’ are labeled as ‘Y = 1’ and answers ‘no, I do not want the coupon’ are labeled as ‘Y = 0’.  There are five different types of coupons -- less expensive restaurants (under \\$20), coffee houses, carry out & take away, bar, and more expensive restaurants (\\$20 - $50)."
   ]
  },
  {
   "cell_type": "markdown",
   "metadata": {
    "id": "1wORvMBJ_qRF"
   },
   "source": [
    "**Deliverables**\n",
    "\n",
    "Your final product should be a brief report that highlights the differences between customers who did and did not accept the coupons.  To explore the data you will utilize your knowledge of plotting, statistical summaries, and visualization using Python. You will publish your findings in a public facing github repository as your first portfolio piece.\n",
    "\n",
    "\n",
    "\n"
   ]
  },
  {
   "cell_type": "markdown",
   "metadata": {
    "id": "pG6_Ym6q_qRG"
   },
   "source": [
    "### Data Description\n",
    "Keep in mind that these values mentioned below are average values.\n",
    "\n",
    "The attributes of this data set include:\n",
    "1. User attributes\n",
    "    -  Gender: male, female\n",
    "    -  Age: below 21, 21 to 25, 26 to 30, etc.\n",
    "    -  Marital Status: single, married partner, unmarried partner, or widowed\n",
    "    -  Number of children: 0, 1, or more than 1\n",
    "    -  Education: high school, bachelors degree, associates degree, or graduate degree\n",
    "    -  Occupation: architecture & engineering, business & financial, etc.\n",
    "    -  Annual income: less than \\\\$12500, \\\\$12500 - \\\\$24999, \\\\$25000 - \\\\$37499, etc.\n",
    "    -  Number of times that he/she goes to a bar: 0, less than 1, 1 to 3, 4 to 8 or greater than 8\n",
    "    -  Number of times that he/she buys takeaway food: 0, less than 1, 1 to 3, 4 to 8 or greater\n",
    "    than 8\n",
    "    -  Number of times that he/she goes to a coffee house: 0, less than 1, 1 to 3, 4 to 8 or\n",
    "    greater than 8\n",
    "    -  Number of times that he/she eats at a restaurant with average expense less than \\\\$20 per\n",
    "    person: 0, less than 1, 1 to 3, 4 to 8 or greater than 8\n",
    "    -  Number of times that he/she goes to a bar: 0, less than 1, 1 to 3, 4 to 8 or greater than 8\n",
    "    \n",
    "\n",
    "2. Contextual attributes\n",
    "    - Driving destination: home, work, or no urgent destination\n",
    "    - Location of user, coupon and destination: we provide a map to show the geographical\n",
    "    location of the user, destination, and the venue, and we mark the distance between each\n",
    "    two places with time of driving. The user can see whether the venue is in the same\n",
    "    direction as the destination.\n",
    "    - Weather: sunny, rainy, or snowy\n",
    "    - Temperature: 30F, 55F, or 80F\n",
    "    - Time: 10AM, 2PM, or 6PM\n",
    "    - Passenger: alone, partner, kid(s), or friend(s)\n",
    "\n",
    "\n",
    "3. Coupon attributes\n",
    "    - time before it expires: 2 hours or one day"
   ]
  },
  {
   "cell_type": "code",
   "execution_count": 5,
   "metadata": {
    "id": "dzNoP3o__qRG"
   },
   "outputs": [],
   "source": [
    "import matplotlib.pyplot as plt\n",
    "import seaborn as sns\n",
    "import pandas as pd\n",
    "import numpy as np"
   ]
  },
  {
   "cell_type": "markdown",
   "metadata": {
    "id": "Ct8pI1uE_qRG"
   },
   "source": [
    "### Problems\n",
    "\n",
    "Use the prompts below to get started with your data analysis.  \n",
    "\n",
    "1. Read in the `coupons.csv` file.\n",
    "\n",
    "\n"
   ]
  },
  {
   "cell_type": "code",
   "execution_count": 7,
   "metadata": {
    "id": "X0vbffYg_qRH"
   },
   "outputs": [],
   "source": [
    "data = pd.read_csv('data/coupons.csv')"
   ]
  },
  {
   "cell_type": "code",
   "execution_count": 8,
   "metadata": {
    "id": "TXofQ_DF_qRH",
    "outputId": "2fc96a2c-1112-4b54-f24f-dbb9bc88abfb"
   },
   "outputs": [
    {
     "data": {
      "text/html": [
       "<div>\n",
       "<style scoped>\n",
       "    .dataframe tbody tr th:only-of-type {\n",
       "        vertical-align: middle;\n",
       "    }\n",
       "\n",
       "    .dataframe tbody tr th {\n",
       "        vertical-align: top;\n",
       "    }\n",
       "\n",
       "    .dataframe thead th {\n",
       "        text-align: right;\n",
       "    }\n",
       "</style>\n",
       "<table border=\"1\" class=\"dataframe\">\n",
       "  <thead>\n",
       "    <tr style=\"text-align: right;\">\n",
       "      <th></th>\n",
       "      <th>destination</th>\n",
       "      <th>passanger</th>\n",
       "      <th>weather</th>\n",
       "      <th>temperature</th>\n",
       "      <th>time</th>\n",
       "      <th>coupon</th>\n",
       "      <th>expiration</th>\n",
       "      <th>gender</th>\n",
       "      <th>age</th>\n",
       "      <th>maritalStatus</th>\n",
       "      <th>...</th>\n",
       "      <th>CoffeeHouse</th>\n",
       "      <th>CarryAway</th>\n",
       "      <th>RestaurantLessThan20</th>\n",
       "      <th>Restaurant20To50</th>\n",
       "      <th>toCoupon_GEQ5min</th>\n",
       "      <th>toCoupon_GEQ15min</th>\n",
       "      <th>toCoupon_GEQ25min</th>\n",
       "      <th>direction_same</th>\n",
       "      <th>direction_opp</th>\n",
       "      <th>Y</th>\n",
       "    </tr>\n",
       "  </thead>\n",
       "  <tbody>\n",
       "    <tr>\n",
       "      <th>0</th>\n",
       "      <td>No Urgent Place</td>\n",
       "      <td>Alone</td>\n",
       "      <td>Sunny</td>\n",
       "      <td>55</td>\n",
       "      <td>2PM</td>\n",
       "      <td>Restaurant(&lt;20)</td>\n",
       "      <td>1d</td>\n",
       "      <td>Female</td>\n",
       "      <td>21</td>\n",
       "      <td>Unmarried partner</td>\n",
       "      <td>...</td>\n",
       "      <td>never</td>\n",
       "      <td>NaN</td>\n",
       "      <td>4~8</td>\n",
       "      <td>1~3</td>\n",
       "      <td>1</td>\n",
       "      <td>0</td>\n",
       "      <td>0</td>\n",
       "      <td>0</td>\n",
       "      <td>1</td>\n",
       "      <td>1</td>\n",
       "    </tr>\n",
       "    <tr>\n",
       "      <th>1</th>\n",
       "      <td>No Urgent Place</td>\n",
       "      <td>Friend(s)</td>\n",
       "      <td>Sunny</td>\n",
       "      <td>80</td>\n",
       "      <td>10AM</td>\n",
       "      <td>Coffee House</td>\n",
       "      <td>2h</td>\n",
       "      <td>Female</td>\n",
       "      <td>21</td>\n",
       "      <td>Unmarried partner</td>\n",
       "      <td>...</td>\n",
       "      <td>never</td>\n",
       "      <td>NaN</td>\n",
       "      <td>4~8</td>\n",
       "      <td>1~3</td>\n",
       "      <td>1</td>\n",
       "      <td>0</td>\n",
       "      <td>0</td>\n",
       "      <td>0</td>\n",
       "      <td>1</td>\n",
       "      <td>0</td>\n",
       "    </tr>\n",
       "    <tr>\n",
       "      <th>2</th>\n",
       "      <td>No Urgent Place</td>\n",
       "      <td>Friend(s)</td>\n",
       "      <td>Sunny</td>\n",
       "      <td>80</td>\n",
       "      <td>10AM</td>\n",
       "      <td>Carry out &amp; Take away</td>\n",
       "      <td>2h</td>\n",
       "      <td>Female</td>\n",
       "      <td>21</td>\n",
       "      <td>Unmarried partner</td>\n",
       "      <td>...</td>\n",
       "      <td>never</td>\n",
       "      <td>NaN</td>\n",
       "      <td>4~8</td>\n",
       "      <td>1~3</td>\n",
       "      <td>1</td>\n",
       "      <td>1</td>\n",
       "      <td>0</td>\n",
       "      <td>0</td>\n",
       "      <td>1</td>\n",
       "      <td>1</td>\n",
       "    </tr>\n",
       "    <tr>\n",
       "      <th>3</th>\n",
       "      <td>No Urgent Place</td>\n",
       "      <td>Friend(s)</td>\n",
       "      <td>Sunny</td>\n",
       "      <td>80</td>\n",
       "      <td>2PM</td>\n",
       "      <td>Coffee House</td>\n",
       "      <td>2h</td>\n",
       "      <td>Female</td>\n",
       "      <td>21</td>\n",
       "      <td>Unmarried partner</td>\n",
       "      <td>...</td>\n",
       "      <td>never</td>\n",
       "      <td>NaN</td>\n",
       "      <td>4~8</td>\n",
       "      <td>1~3</td>\n",
       "      <td>1</td>\n",
       "      <td>1</td>\n",
       "      <td>0</td>\n",
       "      <td>0</td>\n",
       "      <td>1</td>\n",
       "      <td>0</td>\n",
       "    </tr>\n",
       "    <tr>\n",
       "      <th>4</th>\n",
       "      <td>No Urgent Place</td>\n",
       "      <td>Friend(s)</td>\n",
       "      <td>Sunny</td>\n",
       "      <td>80</td>\n",
       "      <td>2PM</td>\n",
       "      <td>Coffee House</td>\n",
       "      <td>1d</td>\n",
       "      <td>Female</td>\n",
       "      <td>21</td>\n",
       "      <td>Unmarried partner</td>\n",
       "      <td>...</td>\n",
       "      <td>never</td>\n",
       "      <td>NaN</td>\n",
       "      <td>4~8</td>\n",
       "      <td>1~3</td>\n",
       "      <td>1</td>\n",
       "      <td>1</td>\n",
       "      <td>0</td>\n",
       "      <td>0</td>\n",
       "      <td>1</td>\n",
       "      <td>0</td>\n",
       "    </tr>\n",
       "  </tbody>\n",
       "</table>\n",
       "<p>5 rows × 26 columns</p>\n",
       "</div>"
      ],
      "text/plain": [
       "       destination  passanger weather  temperature  time  \\\n",
       "0  No Urgent Place      Alone   Sunny           55   2PM   \n",
       "1  No Urgent Place  Friend(s)   Sunny           80  10AM   \n",
       "2  No Urgent Place  Friend(s)   Sunny           80  10AM   \n",
       "3  No Urgent Place  Friend(s)   Sunny           80   2PM   \n",
       "4  No Urgent Place  Friend(s)   Sunny           80   2PM   \n",
       "\n",
       "                  coupon expiration  gender age      maritalStatus  ...  \\\n",
       "0        Restaurant(<20)         1d  Female  21  Unmarried partner  ...   \n",
       "1           Coffee House         2h  Female  21  Unmarried partner  ...   \n",
       "2  Carry out & Take away         2h  Female  21  Unmarried partner  ...   \n",
       "3           Coffee House         2h  Female  21  Unmarried partner  ...   \n",
       "4           Coffee House         1d  Female  21  Unmarried partner  ...   \n",
       "\n",
       "   CoffeeHouse CarryAway RestaurantLessThan20 Restaurant20To50  \\\n",
       "0        never       NaN                  4~8              1~3   \n",
       "1        never       NaN                  4~8              1~3   \n",
       "2        never       NaN                  4~8              1~3   \n",
       "3        never       NaN                  4~8              1~3   \n",
       "4        never       NaN                  4~8              1~3   \n",
       "\n",
       "  toCoupon_GEQ5min toCoupon_GEQ15min toCoupon_GEQ25min direction_same  \\\n",
       "0                1                 0                 0              0   \n",
       "1                1                 0                 0              0   \n",
       "2                1                 1                 0              0   \n",
       "3                1                 1                 0              0   \n",
       "4                1                 1                 0              0   \n",
       "\n",
       "  direction_opp  Y  \n",
       "0             1  1  \n",
       "1             1  0  \n",
       "2             1  1  \n",
       "3             1  0  \n",
       "4             1  0  \n",
       "\n",
       "[5 rows x 26 columns]"
      ]
     },
     "execution_count": 8,
     "metadata": {},
     "output_type": "execute_result"
    }
   ],
   "source": [
    "data.head()"
   ]
  },
  {
   "cell_type": "markdown",
   "metadata": {
    "id": "GcDs78ZH_qRH"
   },
   "source": [
    "2. Investigate the dataset for missing or problematic data."
   ]
  },
  {
   "cell_type": "code",
   "execution_count": 10,
   "metadata": {
    "id": "6CwL6oWj_qRH"
   },
   "outputs": [
    {
     "name": "stdout",
     "output_type": "stream",
     "text": [
      "Missing values:\n",
      " car                     12576\n",
      "Bar                       107\n",
      "CoffeeHouse               217\n",
      "CarryAway                 151\n",
      "RestaurantLessThan20      130\n",
      "Restaurant20To50          189\n",
      "dtype: int64\n",
      "\n",
      "Number of duplicate rows: 74\n",
      "\n",
      "Data types:\n",
      "destination             object\n",
      "passanger               object\n",
      "weather                 object\n",
      "temperature              int64\n",
      "time                    object\n",
      "coupon                  object\n",
      "expiration              object\n",
      "gender                  object\n",
      "age                     object\n",
      "maritalStatus           object\n",
      "has_children             int64\n",
      "education               object\n",
      "occupation              object\n",
      "income                  object\n",
      "car                     object\n",
      "Bar                     object\n",
      "CoffeeHouse             object\n",
      "CarryAway               object\n",
      "RestaurantLessThan20    object\n",
      "Restaurant20To50        object\n",
      "toCoupon_GEQ5min         int64\n",
      "toCoupon_GEQ15min        int64\n",
      "toCoupon_GEQ25min        int64\n",
      "direction_same           int64\n",
      "direction_opp            int64\n",
      "Y                        int64\n",
      "dtype: object\n"
     ]
    },
    {
     "data": {
      "image/png": "[encoded data removed]",
      "text/plain": [
       "<Figure size 1000x4000 with 8 Axes>"
      ]
     },
     "metadata": {},
     "output_type": "display_data"
    },
    {
     "name": "stdout",
     "output_type": "stream",
     "text": [
      "\n",
      "Unique values in destination:\n",
      "destination\n",
      "No Urgent Place    6283\n",
      "Home               3237\n",
      "Work               3164\n",
      "Name: count, dtype: int64\n",
      "\n",
      "Unique values in passanger:\n",
      "passanger\n",
      "Alone        7305\n",
      "Friend(s)    3298\n",
      "Partner      1075\n",
      "Kid(s)       1006\n",
      "Name: count, dtype: int64\n",
      "\n",
      "Unique values in weather:\n",
      "weather\n",
      "Sunny    10069\n",
      "Snowy     1405\n",
      "Rainy     1210\n",
      "Name: count, dtype: int64\n",
      "\n",
      "Unique values in time:\n",
      "time\n",
      "6PM     3230\n",
      "7AM     3164\n",
      "10AM    2275\n",
      "2PM     2009\n",
      "10PM    2006\n",
      "Name: count, dtype: int64\n",
      "\n",
      "Unique values in coupon:\n",
      "coupon\n",
      "Coffee House             3996\n",
      "Restaurant(<20)          2786\n",
      "Carry out & Take away    2393\n",
      "Bar                      2017\n",
      "Restaurant(20-50)        1492\n",
      "Name: count, dtype: int64\n",
      "\n",
      "Unique values in expiration:\n",
      "expiration\n",
      "1d    7091\n",
      "2h    5593\n",
      "Name: count, dtype: int64\n",
      "\n",
      "Unique values in gender:\n",
      "gender\n",
      "Female    6511\n",
      "Male      6173\n",
      "Name: count, dtype: int64\n",
      "\n",
      "Unique values in age:\n",
      "age\n",
      "21         2653\n",
      "26         2559\n",
      "31         2039\n",
      "50plus     1788\n",
      "36         1319\n",
      "41         1093\n",
      "46          686\n",
      "below21     547\n",
      "Name: count, dtype: int64\n",
      "\n",
      "Unique values in maritalStatus:\n",
      "maritalStatus\n",
      "Married partner      5100\n",
      "Single               4752\n",
      "Unmarried partner    2186\n",
      "Divorced              516\n",
      "Widowed               130\n",
      "Name: count, dtype: int64\n",
      "\n",
      "Unique values in education:\n",
      "education\n",
      "Some college - no degree                  4351\n",
      "Bachelors degree                          4335\n",
      "Graduate degree (Masters or Doctorate)    1852\n",
      "Associates degree                         1153\n",
      "High School Graduate                       905\n",
      "Some High School                            88\n",
      "Name: count, dtype: int64\n",
      "\n",
      "Unique values in occupation:\n",
      "occupation\n",
      "Unemployed                                   1870\n",
      "Student                                      1584\n",
      "Computer & Mathematical                      1408\n",
      "Sales & Related                              1093\n",
      "Education&Training&Library                    943\n",
      "Management                                    838\n",
      "Office & Administrative Support               639\n",
      "Arts Design Entertainment Sports & Media      629\n",
      "Business & Financial                          544\n",
      "Retired                                       495\n",
      "Food Preparation & Serving Related            298\n",
      "Healthcare Practitioners & Technical          244\n",
      "Healthcare Support                            242\n",
      "Community & Social Services                   241\n",
      "Legal                                         219\n",
      "Transportation & Material Moving              218\n",
      "Architecture & Engineering                    175\n",
      "Personal Care & Service                       175\n",
      "Protective Service                            175\n",
      "Life Physical Social Science                  170\n",
      "Construction & Extraction                     154\n",
      "Installation Maintenance & Repair             133\n",
      "Production Occupations                        110\n",
      "Building & Grounds Cleaning & Maintenance      44\n",
      "Farming Fishing & Forestry                     43\n",
      "Name: count, dtype: int64\n",
      "\n",
      "Unique values in income:\n",
      "income\n",
      "$25000 - $37499     2013\n",
      "$12500 - $24999     1831\n",
      "$37500 - $49999     1805\n",
      "$100000 or More     1736\n",
      "$50000 - $62499     1659\n",
      "Less than $12500    1042\n",
      "$87500 - $99999      895\n",
      "$75000 - $87499      857\n",
      "$62500 - $74999      846\n",
      "Name: count, dtype: int64\n",
      "\n",
      "Unique values in car:\n",
      "car\n",
      "Scooter and motorcycle                      22\n",
      "Mazda5                                      22\n",
      "do not drive                                22\n",
      "crossover                                   21\n",
      "Car that is too old to install Onstar :D    21\n",
      "Name: count, dtype: int64\n",
      "\n",
      "Unique values in Bar:\n",
      "Bar\n",
      "never    5197\n",
      "less1    3482\n",
      "1~3      2473\n",
      "4~8      1076\n",
      "gt8       349\n",
      "Name: count, dtype: int64\n",
      "\n",
      "Unique values in CoffeeHouse:\n",
      "CoffeeHouse\n",
      "less1    3385\n",
      "1~3      3225\n",
      "never    2962\n",
      "4~8      1784\n",
      "gt8      1111\n",
      "Name: count, dtype: int64\n",
      "\n",
      "Unique values in CarryAway:\n",
      "CarryAway\n",
      "1~3      4672\n",
      "4~8      4258\n",
      "less1    1856\n",
      "gt8      1594\n",
      "never     153\n",
      "Name: count, dtype: int64\n",
      "\n",
      "Unique values in RestaurantLessThan20:\n",
      "RestaurantLessThan20\n",
      "1~3      5376\n",
      "4~8      3580\n",
      "less1    2093\n",
      "gt8      1285\n",
      "never     220\n",
      "Name: count, dtype: int64\n",
      "\n",
      "Unique values in Restaurant20To50:\n",
      "Restaurant20To50\n",
      "less1    6077\n",
      "1~3      3290\n",
      "never    2136\n",
      "4~8       728\n",
      "gt8       264\n",
      "Name: count, dtype: int64\n"
     ]
    }
   ],
   "source": [
    "# Check for missing values\n",
    "missing_values = data.isnull().sum()\n",
    "print(\"Missing values:\\n\", missing_values[missing_values > 0])\n",
    "\n",
    "# Check for duplicate rows\n",
    "duplicates = data.duplicated().sum()\n",
    "print(f\"\\nNumber of duplicate rows: {duplicates}\")\n",
    "\n",
    "# Check for inconsistent data types\n",
    "print(\"\\nData types:\")\n",
    "print(data.dtypes)\n",
    "\n",
    "# Check for outliers in numerical columns\n",
    "numerical_columns = data.select_dtypes(include=['int64', 'float64']).columns\n",
    "fig, axes = plt.subplots(len(numerical_columns), 1, figsize=(10, 5*len(numerical_columns)))\n",
    "for i, col in enumerate(numerical_columns):\n",
    "    sns.boxplot(x=data[col], ax=axes[i])\n",
    "    axes[i].set_title(f'Boxplot of {col}')\n",
    "plt.tight_layout()\n",
    "plt.show()\n",
    "\n",
    "# Check for inconsistent categories in categorical columns\n",
    "categorical_columns = data.select_dtypes(include=['object']).columns\n",
    "for col in categorical_columns:\n",
    "    print(f\"\\nUnique values in {col}:\")\n",
    "    print(data[col].value_counts())"
   ]
  },
  {
   "cell_type": "markdown",
   "metadata": {
    "id": "bSdVSpYB_qRH"
   },
   "source": [
    "3. Decide what to do about your missing data -- drop, replace, other..."
   ]
  },
  {
   "cell_type": "code",
   "execution_count": 12,
   "metadata": {
    "id": "tyvoAC5F_qRI"
   },
   "outputs": [
    {
     "name": "stdout",
     "output_type": "stream",
     "text": [
      "Percentage of missing values in 'car' column: 99.15%\n",
      "The 'car' column has been removed from the dataset.\n"
     ]
    }
   ],
   "source": [
    "# Column car has many missing values - check what % of data is missing \n",
    "\n",
    "car_missing_percentage = (data['car'].isnull().sum() / len(data)) * 100\n",
    "print(f\"Percentage of missing values in 'car' column: {car_missing_percentage:.2f}%\")\n",
    "\n",
    "#99.15% of the values in the 'car' column is missing, making it not useful - > remove\n",
    "data_no_car = data.drop('car', axis=1)\n",
    "print(\"The 'car' column has been removed from the dataset.\")"
   ]
  },
  {
   "cell_type": "markdown",
   "metadata": {
    "id": "YE6oJbXd_qRI"
   },
   "source": [
    "4. What proportion of the total observations chose to accept the coupon?\n",
    "\n"
   ]
  },
  {
   "cell_type": "code",
   "execution_count": 14,
   "metadata": {
    "id": "86GGqBTv_qRI"
   },
   "outputs": [
    {
     "name": "stdout",
     "output_type": "stream",
     "text": [
      "Total observations: 12684\n",
      "Accepted coupons: 7210\n",
      "Acceptance rate: 56.84%\n"
     ]
    }
   ],
   "source": [
    "#Proportion of total observations that chose to accept the coupon:\n",
    "total_observations = len(data)\n",
    "accepted_coupons = data['Y'].sum()\n",
    "acceptance_rate = accepted_coupons / total_observations\n",
    "\n",
    "print(f\"Total observations: {total_observations}\")\n",
    "print(f\"Accepted coupons: {accepted_coupons}\")\n",
    "print(f\"Acceptance rate: {acceptance_rate:.2%}\")"
   ]
  },
  {
   "cell_type": "markdown",
   "metadata": {
    "id": "vflz0DoE_qRI"
   },
   "source": [
    "5. Use a bar plot to visualize the `coupon` column."
   ]
  },
  {
   "cell_type": "code",
   "execution_count": 16,
   "metadata": {
    "id": "dHFh3E45_qRI"
   },
   "outputs": [
    {
     "data": {
      "image/png": "[encoded data removed]",
      "text/plain": [
       "<Figure size 800x600 with 1 Axes>"
      ]
     },
     "metadata": {},
     "output_type": "display_data"
    }
   ],
   "source": [
    "# Visualize the acceptance rate\n",
    "plt.figure(figsize=(8, 6))\n",
    "sns.countplot(x='Y', data=data)\n",
    "plt.title('Coupon Acceptance')\n",
    "plt.xlabel('Accepted (1) vs Rejected (0)')\n",
    "plt.ylabel('Count')\n",
    "plt.show()"
   ]
  },
  {
   "cell_type": "markdown",
   "metadata": {
    "id": "Qw4lCyx2_qRI"
   },
   "source": [
    "6. Use a histogram to visualize the temperature column."
   ]
  },
  {
   "cell_type": "code",
   "execution_count": 18,
   "metadata": {
    "id": "Yg9Anv71_qRI"
   },
   "outputs": [
    {
     "data": {
      "image/png": "[encoded data removed]",
      "text/plain": [
       "<Figure size 1000x600 with 1 Axes>"
      ]
     },
     "metadata": {},
     "output_type": "display_data"
    }
   ],
   "source": [
    "# Create a histogram of the temperature column\n",
    "plt.figure(figsize=(10, 6))\n",
    "plt.hist(data['temperature'], bins=10, edgecolor='black')\n",
    "plt.title('Distribution of Temperature')\n",
    "plt.xlabel('Temperature')\n",
    "plt.ylabel('Frequency')\n",
    "plt.show()"
   ]
  },
  {
   "cell_type": "markdown",
   "metadata": {
    "id": "FupfgeJk_qRJ"
   },
   "source": [
    "**Investigating the Bar Coupons**\n",
    "\n",
    "Now, we will lead you through an exploration of just the bar related coupons.  \n",
    "\n",
    "1. Create a new `DataFrame` that contains just the bar coupons.\n"
   ]
  },
  {
   "cell_type": "code",
   "execution_count": 20,
   "metadata": {
    "id": "tMBlWuGq_qRJ"
   },
   "outputs": [],
   "source": [
    "# Create a new DataFrame with only bar coupons from the cleaned version of the data\n",
    "bar_coupons = data[data['coupon'] == 'Bar']"
   ]
  },
  {
   "cell_type": "markdown",
   "metadata": {
    "id": "8ue6uCqf_qRJ"
   },
   "source": [
    "2. What proportion of bar coupons were accepted?\n"
   ]
  },
  {
   "cell_type": "code",
   "execution_count": 22,
   "metadata": {
    "id": "hSdte8Mi_qRK"
   },
   "outputs": [
    {
     "name": "stdout",
     "output_type": "stream",
     "text": [
      "Total bar coupons: 2017\n",
      "Accepted bar coupons: 827\n",
      "Acceptance rate: 41.00%\n"
     ]
    }
   ],
   "source": [
    "# Calculate the acceptance rate\n",
    "total_bar_coupons = len(bar_coupons)\n",
    "accepted_bar_coupons = bar_coupons['Y'].sum()\n",
    "acceptance_rate_bar = accepted_bar_coupons / total_bar_coupons\n",
    "\n",
    "print(f\"Total bar coupons: {total_bar_coupons}\")\n",
    "print(f\"Accepted bar coupons: {accepted_bar_coupons}\")\n",
    "print(f\"Acceptance rate: {acceptance_rate_bar:.2%}\")"
   ]
  },
  {
   "cell_type": "markdown",
   "metadata": {
    "id": "85nA_iEi_qRK"
   },
   "source": [
    "3. Compare the acceptance rate between those who went to a bar 3 or fewer times a month to those who went more.\n"
   ]
  },
  {
   "cell_type": "code",
   "execution_count": 24,
   "metadata": {
    "id": "LBOrN-XM_qRK"
   },
   "outputs": [
    {
     "name": "stdout",
     "output_type": "stream",
     "text": [
      "Acceptance rate for those who went to a bar 3 or fewer times a month: 37.06%\n",
      "Acceptance rate for those who went to a bar more than 3 times a month: 76.88%\n"
     ]
    }
   ],
   "source": [
    "# Calculate acceptance rate for users who went to a bar 3 or fewer times a month\n",
    "bar_3_or_fewer = bar_coupons[bar_coupons['Bar'].isin(['never', 'less1', '1~3'])]\n",
    "acceptance_rate_3_or_fewer = bar_3_or_fewer['Y'].mean()\n",
    "\n",
    "# Calculate acceptance rate for users who went to a bar more than 3 times a month\n",
    "bar_more_than_3 = bar_coupons[bar_coupons['Bar'].isin(['4~8', 'gt8'])]\n",
    "acceptance_rate_more_than_3 = bar_more_than_3['Y'].mean()\n",
    "\n",
    "print(f\"Acceptance rate for those who went to a bar 3 or fewer times a month: {acceptance_rate_3_or_fewer:.2%}\")\n",
    "print(f\"Acceptance rate for those who went to a bar more than 3 times a month: {acceptance_rate_more_than_3:.2%}\")"
   ]
  },
  {
   "cell_type": "markdown",
   "metadata": {
    "id": "RBgcQwH4_qRK"
   },
   "source": [
    "4. Compare the acceptance rate between drivers who go to a bar more than once a month and are over the age of 25 to the all others.  Is there a difference?\n"
   ]
  },
  {
   "cell_type": "code",
   "execution_count": 26,
   "metadata": {
    "id": "bf28bbeX_qRK"
   },
   "outputs": [
    {
     "name": "stdout",
     "output_type": "stream",
     "text": [
      "Acceptance rate for drivers who go to a bar more than once a month and are over 25: 69.52%\n",
      "Acceptance rate for all others: 33.50%\n",
      "Conclusion: Drivers who go to a bar more than once a month and are over 25 are more than twice as likely to accept the Bar coupon than other drivers\n"
     ]
    }
   ],
   "source": [
    "# Calculate acceptance rate for drivers who go to a bar more than once a month and are over 25\n",
    "group1 = bar_coupons[(bar_coupons['Bar'].isin(['1~3', '4~8', 'gt8'])) & \n",
    "                     (bar_coupons['age'].isin(['26', '31', '36', '41', '46', '50plus']))]\n",
    "acceptance_rate_group1 = group1['Y'].mean()\n",
    "\n",
    "# Calculate acceptance rate for all others\n",
    "group2 = bar_coupons[~((bar_coupons['Bar'].isin(['1~3', '4~8', 'gt8'])) & \n",
    "                       (bar_coupons['age'].isin(['26', '31', '36', '41', '46', '50plus'])))]\n",
    "acceptance_rate_group2 = group2['Y'].mean()\n",
    "\n",
    "print(f\"Acceptance rate for drivers who go to a bar more than once a month and are over 25: {acceptance_rate_group1:.2%}\")\n",
    "print(f\"Acceptance rate for all others: {acceptance_rate_group2:.2%}\")\n",
    "print(f\"Conclusion: Drivers who go to a bar more than once a month and are over 25 are more than twice as likely to accept the Bar coupon than other drivers\")"
   ]
  },
  {
   "cell_type": "markdown",
   "metadata": {
    "id": "S4RKT4PJ_qRK"
   },
   "source": [
    "5. Use the same process to compare the acceptance rate between drivers who go to bars more than once a month and had passengers that were not a kid and had occupations other than farming, fishing, or forestry.\n"
   ]
  },
  {
   "cell_type": "code",
   "execution_count": 28,
   "metadata": {
    "id": "sENaI2Tg_qRK"
   },
   "outputs": [
    {
     "name": "stdout",
     "output_type": "stream",
     "text": [
      "Acceptance rate for the specified group: 71.32%\n",
      "Acceptance rate for all others: 33.50%\n",
      "Conclusion: Drivers who go to a bar more than once a month and had passengers that were not a kid and had occupations other than farming, fishing, or forestry are more than twice as likely to accept the Bar coupon than other drivers\n"
     ]
    }
   ],
   "source": [
    "# Calculate acceptance rate for the specified group\n",
    "#drivers who go to bars more than once a month and had passengers that were not a kid and had occupations other than farming, fishing, or forestry\n",
    "group3 = bar_coupons[(bar_coupons['Bar'].isin(['1~3', '4~8', 'gt8'])) & \n",
    "                     (bar_coupons['passanger'] != 'Kid(s)') & \n",
    "                     (~bar_coupons['occupation'].isin(['Farming Fishing & Forestry']))]\n",
    "acceptance_rate_group3 = group3['Y'].mean()\n",
    "\n",
    "print(f\"Acceptance rate for the specified group: {acceptance_rate_group3:.2%}\")\n",
    "print(f\"Acceptance rate for all others: {acceptance_rate_group2:.2%}\")\n",
    "print(f\"Conclusion: Drivers who go to a bar more than once a month and had passengers that were not a kid and had occupations other than farming, fishing, or forestry are more than twice as likely to accept the Bar coupon than other drivers\")"
   ]
  },
  {
   "cell_type": "markdown",
   "metadata": {
    "id": "n2LIUTil_qRK"
   },
   "source": [
    "6. Compare the acceptance rates between those drivers who:\n",
    "\n",
    "- go to bars more than once a month, had passengers that were not a kid, and were not widowed *OR*\n",
    "- go to bars more than once a month and are under the age of 30 *OR*\n",
    "- go to cheap restaurants more than 4 times a month and income is less than 50K.\n",
    "\n"
   ]
  },
  {
   "cell_type": "code",
   "execution_count": 30,
   "metadata": {
    "id": "aK_wEzx7_qRK"
   },
   "outputs": [
    {
     "name": "stdout",
     "output_type": "stream",
     "text": [
      "Acceptance rate for Group 1: 71.32%\n",
      "Acceptance rate for Group 2: 73.13%\n",
      "Acceptance rate for Group 3: 78.70%\n"
     ]
    }
   ],
   "source": [
    "#Specify the groups thats:\n",
    "#go to bars more than once a month, had passengers that were not a kid, and were not widowed:\n",
    "group4 = bar_coupons[(bar_coupons['Bar'].isin(['1~3', '4~8', 'gt8'])) & \n",
    "                     (bar_coupons['passanger'] != 'Kid(s)') & \n",
    "                     (~bar_coupons['maritalStatus'].isin(['Widowed']))]\n",
    "\n",
    "#go to bars more than once a month and are under the age of 30 OR:\n",
    "group5 = bar_coupons[(bar_coupons['Bar'].isin(['1~3', '4~8', 'gt8']))& \n",
    "                     (bar_coupons['age'].isin(['21', '26']))]\n",
    "\n",
    "#go to cheap restaurants more than 4 times a month and income is less than 50K:\n",
    "group6 = bar_coupons[(bar_coupons['Bar'].isin(['4~8', 'gt8']))& \n",
    "                     (bar_coupons['income'].isin(['Less than $12500', '$12500 - $24999', '$25000 - $37499', '$37500 - $49999']))]\n",
    "\n",
    "\n",
    "# Calculate acceptance rates\n",
    "acceptance_rate4 = group4['Y'].mean()\n",
    "acceptance_rate5 = group5['Y'].mean()\n",
    "acceptance_rate6 = group6['Y'].mean()\n",
    "\n",
    "print(f\"Acceptance rate for Group 1: {acceptance_rate4:.2%}\")\n",
    "print(f\"Acceptance rate for Group 2: {acceptance_rate5:.2%}\")\n",
    "print(f\"Acceptance rate for Group 3: {acceptance_rate6:.2%}\")"
   ]
  },
  {
   "cell_type": "markdown",
   "metadata": {
    "id": "v3fL3QkO_qRK"
   },
   "source": [
    "7.  Based on these observations, what do you hypothesize about drivers who accepted the bar coupons?"
   ]
  },
  {
   "cell_type": "code",
   "execution_count": 68,
   "metadata": {
    "id": "Y48naDFh_qRL"
   },
   "outputs": [
    {
     "name": "stdout",
     "output_type": "stream",
     "text": [
      "All three groups are more than 70% likely to accept coupons, with Group 3 being the most likely to accept them with 78.70% chance\n"
     ]
    }
   ],
   "source": [
    "print(f\"All three groups are more than 70% likely to accept coupons, with Group 3 being the most likely to accept them: 78.70% chance\")"
   ]
  },
  {
   "cell_type": "markdown",
   "metadata": {
    "id": "r4Hu1zOb_qRL"
   },
   "source": [
    "### Independent Investigation\n",
    "\n",
    "Using the bar coupon example as motivation, you are to explore one of the other coupon groups and try to determine the characteristics of passengers who accept the coupons.  "
   ]
  },
  {
   "cell_type": "markdown",
   "metadata": {
    "id": "r4Hu1zOb_qRL"
   },
   "source": [
    "### My choice of coupon group: Coffee House\n",
    "\n",
    "Now, let's analyze the characteristics of passengers who accept coffee house coupons.  "
   ]
  },
  {
   "cell_type": "markdown",
   "metadata": {
    "id": "n2LIUTil_qRK"
   },
   "source": [
    "1. First, let's calculate the overall acceptance rate for coffee house coupons:"
   ]
  },
  {
   "cell_type": "code",
   "execution_count": 36,
   "metadata": {
    "id": "0c71cQhu_qRL"
   },
   "outputs": [
    {
     "name": "stdout",
     "output_type": "stream",
     "text": [
      "Overall coffee house coupon acceptance rate: 56.84%\n"
     ]
    }
   ],
   "source": [
    "#overall acceptance rate for coffee house coupons:\n",
    "coffee_coupons = data[data['coupon'] == 'Coffee House']\n",
    "acceptance_rate_coffee = coffee_coupons['Y'].mean()\n",
    "\n",
    "print(f\"Overall coffee house coupon acceptance rate: {acceptance_rate:.2%}\")"
   ]
  },
  {
   "cell_type": "code",
   "execution_count": 66,
   "metadata": {
    "id": "_oykf8YP_qRL"
   },
   "outputs": [
    {
     "data": {
      "image/png": "[encoded data removed]",
      "text/plain": [
       "<Figure size 800x600 with 1 Axes>"
      ]
     },
     "metadata": {},
     "output_type": "display_data"
    }
   ],
   "source": [
    "# Visualize the acceptance rate\n",
    "plt.figure(figsize=(8, 6))\n",
    "sns.countplot(x='Y', data=data)\n",
    "plt.title('Coffee House Coupon Acceptance')\n",
    "plt.xlabel('Accepted (1) vs Rejected (0)')\n",
    "plt.ylabel('Count')\n",
    "plt.show()"
   ]
  },
  {
   "cell_type": "markdown",
   "metadata": {
    "id": "n2LIUTil_qRK"
   },
   "source": [
    "2. Let's explore various factors that might influence coffee house coupon acceptance:\n",
    "   \n",
    "- Frequency of Coffee House Visits\n",
    "- Time of Day\n",
    "- Age Group\n",
    "- Income Level"
   ]
  },
  {
   "cell_type": "code",
   "execution_count": 39,
   "metadata": {
    "id": "QEsBkvIN_qRL"
   },
   "outputs": [
    {
     "name": "stdout",
     "output_type": "stream",
     "text": [
      "Acceptance rate by coffee house visit frequency:\n",
      "CoffeeHouse\n",
      "4~8      0.685874\n",
      "gt8      0.657895\n",
      "1~3      0.647793\n",
      "less1    0.481860\n",
      "never    0.188781\n",
      "Name: Y, dtype: float64\n"
     ]
    }
   ],
   "source": [
    "#Frequency of Coffee House Visits\n",
    "acceptance_by_frequency = coffee_coupons.groupby('CoffeeHouse')['Y'].mean().sort_values(ascending=False)\n",
    "print(\"Acceptance rate by coffee house visit frequency:\")\n",
    "print(acceptance_by_frequency)"
   ]
  },
  {
   "cell_type": "code",
   "execution_count": 40,
   "metadata": {
    "id": "RrqUWn7d_qRL"
   },
   "outputs": [
    {
     "name": "stdout",
     "output_type": "stream",
     "text": [
      "Acceptance rate by time of day:\n",
      "time\n",
      "10AM    0.640712\n",
      "2PM     0.547859\n",
      "7AM     0.445783\n",
      "10PM    0.424242\n",
      "6PM     0.412626\n",
      "Name: Y, dtype: float64\n"
     ]
    }
   ],
   "source": [
    "#Time of Day\n",
    "acceptance_by_time = coffee_coupons.groupby('time')['Y'].mean().sort_values(ascending=False)\n",
    "print(\"Acceptance rate by time of day:\")\n",
    "print(acceptance_by_time)"
   ]
  },
  {
   "cell_type": "code",
   "execution_count": 41,
   "metadata": {
    "id": "_oykf8YP_qRL"
   },
   "outputs": [
    {
     "name": "stdout",
     "output_type": "stream",
     "text": [
      "Acceptance rate by age group:\n",
      "age\n",
      "below21    0.696774\n",
      "21         0.524349\n",
      "26         0.514828\n",
      "46         0.513636\n",
      "41         0.501538\n",
      "31         0.476726\n",
      "36         0.467662\n",
      "50plus     0.420183\n",
      "Name: Y, dtype: float64\n"
     ]
    }
   ],
   "source": [
    "#Age group\n",
    "acceptance_by_age = coffee_coupons.groupby('age')['Y'].mean().sort_values(ascending=False)\n",
    "print(\"Acceptance rate by age group:\")\n",
    "print(acceptance_by_age)"
   ]
  },
  {
   "cell_type": "code",
   "execution_count": 42,
   "metadata": {
    "id": "_oykf8YP_qRL"
   },
   "outputs": [
    {
     "name": "stdout",
     "output_type": "stream",
     "text": [
      "Acceptance rate by income level:\n",
      "income\n",
      "$87500 - $99999     0.557196\n",
      "Less than $12500    0.551948\n",
      "$37500 - $49999     0.542373\n",
      "$12500 - $24999     0.540404\n",
      "$50000 - $62499     0.503650\n",
      "$100000 or More     0.494382\n",
      "$25000 - $37499     0.473438\n",
      "$62500 - $74999     0.436364\n",
      "$75000 - $87499     0.296610\n",
      "Name: Y, dtype: float64\n"
     ]
    }
   ],
   "source": [
    "#Income\n",
    "acceptance_by_income = coffee_coupons.groupby('income')['Y'].mean().sort_values(ascending=False)\n",
    "print(\"Acceptance rate by income level:\")\n",
    "print(acceptance_by_income)"
   ]
  },
  {
   "cell_type": "markdown",
   "metadata": {
    "id": "n2LIUTil_qRK"
   },
   "source": [
    "Step 2 Findings:\n",
    "\n",
    "Characteristics of Likely Acceptors of the Coffee House Coupon based on the analysis:\n",
    "   \n",
    "- Coffee house visitors (1+ times per months) are about 65% likely to accept coffee house coupons\n",
    "- Those receiving coupons in the morning (10AM) are likely to accept coupon with 64% rate\n",
    "- Young adults below 21 are the most likely age group to accept coffee house coupon\n",
    "- Income Level does not seem to have a strong influence on the coffee house coupon acceptance rate"
   ]
  },
  {
   "cell_type": "markdown",
   "metadata": {
    "id": "n2LIUTil_qRK"
   },
   "source": [
    "3. Now I will see whether the combination of the above characteristics increases the chance of accepted coffee house coupon: \n",
    "- Group 1: Coffee house visitors (1+ times per months) and under age of 21\n",
    "- Group 2: Those receiving coupons in the morning (10AM) and under age of 21 \n",
    "- Group 3: Coffee house visitors (1+ times per months) and those receiving coupons in the morning (10AM)\n",
    "- Group 4: Coffee house visitors (1+ times per months) and under age of 21, receiving coupons in the morning (10AM)"
   ]
  },
  {
   "cell_type": "code",
   "execution_count": 95,
   "metadata": {},
   "outputs": [
    {
     "name": "stdout",
     "output_type": "stream",
     "text": [
      "Coffee house coupon acceptance rate for group 1: 76.27%\n",
      "Increased likelyhood of acceptance (compared to overall) : 152.77%\n"
     ]
    }
   ],
   "source": [
    "# Calculate acceptance rate for Group 1: Coffee house visitors (1+ times per months) and under age of 21\n",
    "group1c = coffee_coupons[(coffee_coupons['CoffeeHouse'].isin(['4~8','gt8','1~3'])) & \n",
    "                     (coffee_coupons['age'].isin(['below21']))]\n",
    "acceptance_rate_group1c = group1c['Y'].mean()\n",
    "print(f\"Coffee house coupon acceptance rate for group 1: {acceptance_rate_group1c:.2%}\")\n",
    "print(f\"Increased likelyhood of acceptance (compared to overall) : {acceptance_rate_group1c/acceptance_rate_coffee:.2%}\")"
   ]
  },
  {
   "cell_type": "code",
   "execution_count": 97,
   "metadata": {},
   "outputs": [
    {
     "name": "stdout",
     "output_type": "stream",
     "text": [
      "Coffee house coupon acceptance rate for group 2: 74.29%\n",
      "Increased likelyhood of acceptance (compared to overall) : 148.79%\n"
     ]
    }
   ],
   "source": [
    "#Calculate acceptance rate for Group 2: Those receiving coupons in the morning (10AM) and under age of 21\n",
    "group2c = coffee_coupons[(coffee_coupons['time'].isin(['10AM'])) & \n",
    "                     (coffee_coupons['age'].isin(['below21']))]\n",
    "acceptance_rate_group2c = group2c['Y'].mean()\n",
    "print(f\"Coffee house coupon acceptance rate for group 2: {acceptance_rate_group2c:.2%}\")\n",
    "print(f\"Increased likelyhood of acceptance (compared to overall) : {acceptance_rate_group2c/acceptance_rate_coffee:.2%}\")"
   ]
  },
  {
   "cell_type": "code",
   "execution_count": 99,
   "metadata": {},
   "outputs": [
    {
     "name": "stdout",
     "output_type": "stream",
     "text": [
      "Coffee house coupon acceptance rate for group 3: 81.29%\n",
      "Increased likelyhood of acceptance (compared to overall) : 162.83%\n"
     ]
    }
   ],
   "source": [
    "#Calculate acceptance rate for Group 3: Coffee house visitors (1+ times per months) and those receiving coupons in the morning (10AM)\n",
    "group3c = coffee_coupons[(coffee_coupons['CoffeeHouse'].isin(['4~8','gt8','1~3'])) & \n",
    "                     (coffee_coupons['time'].isin(['10AM']))]\n",
    "acceptance_rate_group3c = group3c['Y'].mean()\n",
    "print(f\"Coffee house coupon acceptance rate for group 3: {acceptance_rate_group3c:.2%}\")\n",
    "print(f\"Increased likelyhood of acceptance (compared to overall) : {acceptance_rate_group3c/acceptance_rate_coffee:.2%}\")"
   ]
  },
  {
   "cell_type": "code",
   "execution_count": 101,
   "metadata": {},
   "outputs": [
    {
     "name": "stdout",
     "output_type": "stream",
     "text": [
      "Coffee house coupon acceptance rate for group 4: 80.00%\n",
      "Increased likelyhood of acceptance (compared to overall) : 160.24%\n"
     ]
    }
   ],
   "source": [
    "#Calculate acceptance rate for Group 4: Coffee house visitors (1+ times per months) and under age of 21, receiving coupons in the morning (10AM)\n",
    "group4c = coffee_coupons[(coffee_coupons['CoffeeHouse'].isin(['4~8','gt8','1~3'])) & \n",
    "                     (coffee_coupons['time'].isin(['10AM']))&\n",
    "                    (coffee_coupons['age'].isin(['below21']))]\n",
    "acceptance_rate_group4c = group4c['Y'].mean()\n",
    "print(f\"Coffee house coupon acceptance rate for group 4: {acceptance_rate_group4c:.2%}\")\n",
    "print(f\"Increased likelyhood of acceptance (compared to overall) : {acceptance_rate_group4c/acceptance_rate_coffee:.2%}\")"
   ]
  },
  {
   "cell_type": "code",
   "execution_count": 119,
   "metadata": {},
   "outputs": [
    {
     "data": {
      "image/png": "[encoded data removed]",
      "text/plain": [
       "<Figure size 640x480 with 1 Axes>"
      ]
     },
     "metadata": {},
     "output_type": "display_data"
    }
   ],
   "source": [
    "#create a plot showing the summary of the analysis\n",
    "# Data for the 4 values\n",
    "data_coffee = {\n",
    "    'Group': ['Overall','Group 1', 'Group 2', 'Group 3', 'Group 4'],\n",
    "    'Acceptance Rate': [acceptance_rate_coffee,acceptance_rate_group1c, acceptance_rate_group2c, acceptance_rate_group3c, acceptance_rate_group4c]\n",
    "}\n",
    "\n",
    "# Creating a DataFrame\n",
    "df_coffee = pd.DataFrame(data_coffee)\n",
    "\n",
    "# Plotting the bar chart\n",
    "coffee_plot=df_coffee.plot(kind='barh', x='Group', y='Acceptance Rate', color='skyblue')\n",
    "\n",
    "# Set y-axis to start from 0 and end at 1 \n",
    "plt.xlim(0, 1)\n",
    "\n",
    "# Adding labels and title\n",
    "plt.xlabel('Acceptance Rate')\n",
    "plt.ylabel('Group')\n",
    "plt.title('Coffee house coupon acceptance rate by group')\n",
    "\n",
    "# Displaying the plot\n",
    "plt.show()"
   ]
  },
  {
   "cell_type": "markdown",
   "metadata": {
    "id": "n2LIUTil_qRK"
   },
   "source": [
    "Step 3 findings. \n",
    "\n",
    "Analysis showed that group 3: Coffee house visitors (1+ times per months) and those receiving coupons in the morning (10AM) were the most likely group to accept the coffee house coupon (81.29%) and hence is be recommended for targeting on the basis of this analysis."
   ]
  }
 ],
 "metadata": {
  "colab": {
   "provenance": []
  },
  "kernelspec": {
   "display_name": "Python [conda env:base] *",
   "language": "python",
   "name": "conda-base-py"
  },
  "language_info": {
   "codemirror_mode": {
    "name": "ipython",
    "version": 3
   },
   "file_extension": ".py",
   "mimetype": "text/x-python",
   "name": "python",
   "nbconvert_exporter": "python",
   "pygments_lexer": "ipython3",
   "version": "3.12.7"
  }
 },
 "nbformat": 4,
 "nbformat_minor": 4
}
